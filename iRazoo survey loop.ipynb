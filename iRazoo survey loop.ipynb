{
 "cells": [
  {
   "cell_type": "code",
   "execution_count": 1,
   "metadata": {},
   "outputs": [],
   "source": [
    "import requests\n",
    "import re \n",
    "import urllib.parse, urllib.request\n",
    "from bs4 import BeautifulSoup as bs\n",
    "import time"
   ]
  },
  {
   "cell_type": "code",
   "execution_count": 2,
   "metadata": {},
   "outputs": [
    {
     "data": {
      "text/plain": [
       "200"
      ]
     },
     "execution_count": 2,
     "metadata": {},
     "output_type": "execute_result"
    }
   ],
   "source": [
    "a = requests.get(\"https://www.swagbucks.com/surveys\")\n",
    "a.status_code"
   ]
  },
  {
   "cell_type": "markdown",
   "metadata": {},
   "source": [
    "## Loop through a survey and answer the questions selecting an answer"
   ]
  },
  {
   "cell_type": "markdown",
   "metadata": {},
   "source": [
    "### login first, but due to anti-bot mechanism repachta kicks in during loging in"
   ]
  },
  {
   "cell_type": "code",
   "execution_count": 9,
   "metadata": {},
   "outputs": [],
   "source": [
    "# import selenium\n",
    "from selenium import webdriver\n",
    "from selenium.webdriver.support.ui import WebDriverWait as WDW\n",
    "from selenium.webdriver.support import expected_conditions as EC\n",
    "from selenium.webdriver.common.by import By\n",
    "\n",
    "driver = webdriver.Chrome('C:/Program Files (x86)/chromedriver_win32/chromedriver')\n",
    "driver.get('https://www.swagbucks.com/surveys')\n",
    "\n",
    "#log in process\n",
    "#home page where yu may opt to log in or sign up\n",
    "login_option_button = driver.find_element_by_id('sbLogInCta')\n",
    "login_option_button.click()\n",
    "\n",
    "#details \n",
    "email = 'abcdefghijk@gmail.com'\n",
    "password = 'abcdefghijk'\n",
    "#the email and password are dummies , input your own\n",
    "\n",
    "\n",
    "#the initial :: email_input = driver.find_element_by_name('emailAddress')\n",
    "# was hanging because i was requesting stuff before it loaded\n",
    "#the webDriverwait assits with that, allows the next process to wait until all the data is loaded\n",
    "\n",
    "email_textbox = WDW(driver, 20).until(EC.presence_of_element_located((By.ID,\"sbxJxRegEmail\")))\n",
    "\n",
    "password_textbox= WDW(driver,20).until(EC.presence_of_element_located((By.ID,\"sbxJxRegPswd\")))\n",
    "\n",
    "\n",
    "email_textbox.send_keys(email)\n",
    "password_textbox.send_keys(password)\n",
    "#also \n",
    "    #password_textbox= WDW(driver,20).until(EC.presence_of_element_located((By.ID,\"sbxJxRegPswd\"))).send_keys(email)\n",
    "#will work\n",
    "\n",
    "#login_button = driver.find_element_by_xpath(\"//button[@id ='loginBtn']\")\n",
    "login_button=WDW(driver,20).until(EC.presence_of_element_located((By.XPATH,\"//button[@id ='loginBtn']\")))\n",
    "login_button.click()"
   ]
  },
  {
   "cell_type": "markdown",
   "metadata": {},
   "source": [
    "### Loop through the survey questions\n",
    "### allow time for pages to load/refresh"
   ]
  },
  {
   "cell_type": "code",
   "execution_count": 262,
   "metadata": {},
   "outputs": [],
   "source": [
    "for i in range(1,10):\n",
    "    question_dot= WDW(driver,2).until(EC.presence_of_element_located((By.XPATH,\"//div[@class='questionDropdownContainer valignMiddle']\")))\n",
    "    driver.execute_script(\"arguments[0].click();\",question_dot)\n",
    "    choice = WDW(driver,1).until(EC.presence_of_element_located((By.XPATH,\"//span[@data-index = '1']\")))\n",
    "    driver.execute_script(\"arguments[0].click();\",choice)\n",
    "    answer_button = WDW(driver,1).until(EC.presence_of_element_located((By.XPATH,\"//button[@type='button' and contains(., 'Answer')]\")))\n",
    "    driver.execute_script(\"arguments[0].click();\",answer_button)\n",
    "    time.sleep(4)\n",
    "\n",
    "\n"
   ]
  },
  {
   "cell_type": "code",
   "execution_count": null,
   "metadata": {},
   "outputs": [],
   "source": []
  }
 ],
 "metadata": {
  "kernelspec": {
   "display_name": "Python 3",
   "language": "python",
   "name": "python3"
  },
  "language_info": {
   "codemirror_mode": {
    "name": "ipython",
    "version": 3
   },
   "file_extension": ".py",
   "mimetype": "text/x-python",
   "name": "python",
   "nbconvert_exporter": "python",
   "pygments_lexer": "ipython3",
   "version": "3.7.4"
  }
 },
 "nbformat": 4,
 "nbformat_minor": 4
}
